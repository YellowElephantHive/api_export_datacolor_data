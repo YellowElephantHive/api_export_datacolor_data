{
 "cells": [
  {
   "cell_type": "code",
   "execution_count": 1,
   "metadata": {},
   "outputs": [],
   "source": [
    "import os\n",
    "import sys\n",
    "import pandas as pd\n",
    "import numpy as np\n",
    "from functools import reduce"
   ]
  },
  {
   "cell_type": "code",
   "execution_count": 2,
   "metadata": {
    "pycharm": {
     "name": "#%%\n"
    }
   },
   "outputs": [],
   "source": [
    "df = pd.read_csv('/Users/laiyuchun/Desktop/all_20200302.csv', encoding='big5')\n",
    "cwd = os.getcwd()\n",
    "ColNames = df.columns\n",
    "DataFrameWithoutNa = df.dropna()\n",
    "DataFrameResetIndex = DataFrameWithoutNa.reset_index(drop=True)\n"
   ]
  },
  {
   "cell_type": "code",
   "execution_count": 3,
   "metadata": {
    "pycharm": {
     "name": "#%%\n"
    }
   },
   "outputs": [],
   "source": [
    "import numpy as np\n",
    "NewCols = []\n",
    "for i in range(1, 5):\n",
    "    ColNames = ['染料_' + str(i), '濃度_' + str(i)]\n",
    "    NewCols.append(ColNames)\n",
    "\n",
    "NewCols = np.asarray(NewCols).reshape(8).tolist()\n"
   ]
  },
  {
   "cell_type": "code",
   "execution_count": 4,
   "metadata": {
    "pycharm": {
     "name": "#%%\n"
    }
   },
   "outputs": [],
   "source": [
    "SplitSolubilityString = []\n",
    "for i in range(len(DataFrameResetIndex['Drug Solubility'])):\n",
    "    SplitSolubilityString.append(DataFrameResetIndex['Drug Solubility'][i].split(' '))\n",
    "SpiteStringWithComma = []\n",
    "for i in range(len(SplitSolubilityString)):\n",
    "    FixLengthOfSolubility = []\n",
    "    for j in range(len(SplitSolubilityString[i])):\n",
    "        SpitedString = SplitSolubilityString[i][j].split(',')\n",
    "        FixLengthOfSolubility.append(SpitedString)\n",
    "    SpiteStringWithComma.append(FixLengthOfSolubility)\n"
   ]
  },
  {
   "cell_type": "code",
   "execution_count": 5,
   "metadata": {
    "pycharm": {
     "name": "#%%\n"
    }
   },
   "outputs": [],
   "source": [
    "from functools import reduce\n",
    "MergeSolubilityList = []\n",
    "for i in range(len(SpiteStringWithComma)):\n",
    "    MergeFragmentList = reduce(lambda list_1, list_2: list_1 + list_2, SpiteStringWithComma[i])\n",
    "    ListWithoutNone = list(filter(None, MergeFragmentList))\n",
    "    MergeSolubilityList.append(ListWithoutNone)"
   ]
  },
  {
   "cell_type": "code",
   "execution_count": 6,
   "metadata": {
    "pycharm": {
     "name": "#%%\n"
    }
   },
   "outputs": [],
   "source": [
    "CleanOutput = []\n",
    "LogAbnormalData = []\n",
    "for i in MergeSolubilityList:\n",
    "    if len(i) > 8:\n",
    "        LogAbnormalData.append(i)\n",
    "\n",
    "    else:\n",
    "        CleanOutput.append(i)"
   ]
  },
  {
   "cell_type": "code",
   "execution_count": 7,
   "metadata": {},
   "outputs": [],
   "source": [
    "TrainingData = pd.read_excel('/Users/laiyuchun/Desktop/hong_make_all_revised.xlsx', encoding='big5')\n",
    "\n",
    "'''\n",
    "this scope is to complement value because solubility requires\n",
    "four kinds of dyestuff and concentration of four dyestuff. That\n",
    "is to say there are totally eight columns. These columns would\n",
    "be merged with NewCols to form a new dataframe\n",
    "'''\n",
    "\n",
    "# TODO It should remove abnormal solubility from DataFrameResetIndex in below step\n",
    "ComplementaryValue = []\n",
    "for i in CleanOutput:\n",
    "    if len(i) < 6:\n",
    "        i = i + [\" \", \" \", \" \", \" \"]\n",
    "        ComplementaryValue.append(i)\n",
    "    else:\n",
    "        i = i + [\" \", \" \"]\n",
    "        ComplementaryValue.append(i)"
   ]
  },
  {
   "cell_type": "code",
   "execution_count": 8,
   "outputs": [],
   "source": [
    "# 單色光: light 布號: Device\n",
    "DfSolubility = pd.DataFrame(ComplementaryValue, columns=NewCols)\n",
    "LightDeviceGroup = TrainingData.groupby(['單色光', '布號']).groups\n",
    "DeviceToLight = dict((v, k) for k, v in LightDeviceGroup)\n",
    "DataFrameResetIndex['布號'].map(DeviceToLight)\n",
    "DataFrameResetIndex['單色光'] = DataFrameResetIndex['布號'].map(DeviceToLight)\n",
    "DataFrameResetIndex.to_excel('/Users/laiyuchun/Desktop/df_modify_2.xlsx')"
   ],
   "metadata": {
    "collapsed": false,
    "pycharm": {
     "name": "#%%\n"
    }
   }
  },
  {
   "cell_type": "code",
   "execution_count": 51,
   "outputs": [],
   "source": [
    "DfConcat = DataFrameResetIndex.join(DfSolubility, how='outer')\n"
   ],
   "metadata": {
    "collapsed": false,
    "pycharm": {
     "name": "#%%\n"
    }
   }
  }
 ],
 "metadata": {
  "kernelspec": {
   "display_name": "Python 3",
   "language": "python",
   "name": "python3"
  },
  "language_info": {
   "codemirror_mode": {
    "name": "ipython",
    "version": 3
   },
   "file_extension": ".py",
   "mimetype": "text/x-python",
   "name": "python",
   "nbconvert_exporter": "python",
   "pygments_lexer": "ipython3",
   "version": "3.7.4"
  }
 },
 "nbformat": 4,
 "nbformat_minor": 1
}