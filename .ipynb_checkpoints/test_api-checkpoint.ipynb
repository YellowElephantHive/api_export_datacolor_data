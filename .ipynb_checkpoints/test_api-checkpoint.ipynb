{
 "cells": [
  {
   "cell_type": "code",
   "execution_count": 30,
   "metadata": {},
   "outputs": [],
   "source": [
    "import os\n",
    "import sys\n",
    "import pandas as pd\n",
    "import numpy as np\n",
    "from functools import reduce"
   ]
  },
  {
   "cell_type": "code",
   "execution_count": 31,
   "metadata": {
    "pycharm": {
     "name": "#%%\n"
    }
   },
   "outputs": [],
   "source": [
    "df = pd.read_csv('/Users/laiyuchun/Desktop/all_20200302.csv', encoding='big5')\n",
    "cwd = os.getcwd()\n",
    "ColNames = df.columns\n",
    "DataFrameWithoutNa = df.dropna()\n",
    "DataFrameResetIndex = DataFrameWithoutNa.reset_index(drop=True)\n"
   ]
  },
  {
   "cell_type": "code",
   "execution_count": 32,
   "metadata": {
    "pycharm": {
     "name": "#%%\n"
    }
   },
   "outputs": [],
   "source": [
    "import numpy as np\n",
    "NewCols = []\n",
    "for i in range(1, 5):\n",
    "    ColNames = ['染料_' + str(i), '濃度_' + str(i)]\n",
    "    NewCols.append(ColNames)\n",
    "\n",
    "NewCols = np.asarray(NewCols).reshape(8).tolist()\n"
   ]
  },
  {
   "cell_type": "code",
   "execution_count": 33,
   "metadata": {
    "pycharm": {
     "name": "#%%\n"
    }
   },
   "outputs": [],
   "source": [
    "SplitSolubilityString = []\n",
    "for i in range(len(DataFrameResetIndex['Drug Solubility'])):\n",
    "    SplitSolubilityString.append(DataFrameResetIndex['Drug Solubility'][i].split(' '))\n",
    "SpiteStringWithComma = []\n",
    "for i in range(len(SplitSolubilityString)):\n",
    "    FixLengthOfSolubility = []\n",
    "    for j in range(len(SplitSolubilityString[i])):\n",
    "        SpitedString = SplitSolubilityString[i][j].split(',')\n",
    "        FixLengthOfSolubility.append(SpitedString)\n",
    "    SpiteStringWithComma.append(FixLengthOfSolubility)\n"
   ]
  },
  {
   "cell_type": "code",
   "execution_count": 34,
   "metadata": {
    "pycharm": {
     "name": "#%%\n"
    }
   },
   "outputs": [],
   "source": [
    "from functools import reduce\n",
    "MergeSolubilityList = []\n",
    "for i in range(len(SpiteStringWithComma)):\n",
    "    MergeFragmentList = reduce(lambda list_1, list_2: list_1 + list_2, SpiteStringWithComma[i])\n",
    "    ListWithoutNone = list(filter(None, MergeFragmentList))\n",
    "    MergeSolubilityList.append(ListWithoutNone)"
   ]
  },
  {
   "cell_type": "code",
   "execution_count": 35,
   "metadata": {
    "pycharm": {
     "name": "#%%\n"
    }
   },
   "outputs": [],
   "source": [
    "CleanOutput = []\n",
    "LogAbnormalData = []\n",
    "for i in MergeSolubilityList:\n",
    "    if len(i) > 8:\n",
    "        LogAbnormalData.append(i)\n",
    "\n",
    "    else:\n",
    "        CleanOutput.append(i)"
   ]
  },
  {
   "cell_type": "code",
   "execution_count": null,
   "metadata": {},
   "outputs": [],
   "source": []
  }
 ],
 "metadata": {
  "kernelspec": {
   "display_name": "Python 3",
   "language": "python",
   "name": "python3"
  },
  "language_info": {
   "codemirror_mode": {
    "name": "ipython",
    "version": 3
   },
   "file_extension": ".py",
   "mimetype": "text/x-python",
   "name": "python",
   "nbconvert_exporter": "python",
   "pygments_lexer": "ipython3",
   "version": "3.7.4"
  }
 },
 "nbformat": 4,
 "nbformat_minor": 1
}
